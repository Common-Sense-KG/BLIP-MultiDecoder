{
 "cells": [
  {
   "cell_type": "code",
   "execution_count": 2,
   "metadata": {},
   "outputs": [
    {
     "name": "stdout",
     "output_type": "stream",
     "text": [
      "torch.Size([1, 3, 384, 384])\n"
     ]
    }
   ],
   "source": [
    "import torch\n",
    "a = torch.rand(4,3,384,384)\n",
    "pic_list= a.chunk(4,dim=0)\n",
    "print(pic_list[0].shape)"
   ]
  },
  {
   "cell_type": "code",
   "execution_count": null,
   "metadata": {},
   "outputs": [],
   "source": [
    "import torch\n",
    "import torch.nn.functional as func\n",
    "import numpy as np\n",
    "word_prob = torch.rand()\n",
    "caption = torch.rand()\n",
    "word_size = 30522\n",
    "ref_words = caption.index_select(-1, index=torch.arange(word_size).long())\n",
    "word_loss = func.nll_loss(word_prob.log(), ref_words, reduction='none')\n",
    "mask = (ref_words > 0.5).float()\n",
    "word_loss = word_loss.mul(mask).sum().div(mask.sum())\n",
    "print(word_loss)\n",
    "        "
   ]
  },
  {
   "cell_type": "code",
   "execution_count": 18,
   "metadata": {},
   "outputs": [
    {
     "ename": "ImportError",
     "evalue": "cannot import name 'Layer' from 'keras.engine' (/home/fxy0913@corp.sse.tongji.edu.cn/.conda/envs/blip/lib/python3.9/site-packages/keras/engine/__init__.py)",
     "output_type": "error",
     "traceback": [
      "\u001b[0;31m---------------------------------------------------------------------------\u001b[0m",
      "\u001b[0;31mImportError\u001b[0m                               Traceback (most recent call last)",
      "\u001b[1;32m/archive/hot0/fxy/BLIP/try.ipynb Cell 3\u001b[0m in \u001b[0;36m<cell line: 1>\u001b[0;34m()\u001b[0m\n\u001b[0;32m----> <a href='vscode-notebook-cell://ssh-remote%2Bgpu05/archive/hot0/fxy/BLIP/try.ipynb#X11sdnNjb2RlLXJlbW90ZQ%3D%3D?line=0'>1</a>\u001b[0m \u001b[39mimport\u001b[39;00m \u001b[39mmatchzoo\u001b[39;00m \u001b[39mas\u001b[39;00m \u001b[39mmz\u001b[39;00m\n\u001b[1;32m      <a href='vscode-notebook-cell://ssh-remote%2Bgpu05/archive/hot0/fxy/BLIP/try.ipynb#X11sdnNjb2RlLXJlbW90ZQ%3D%3D?line=1'>2</a>\u001b[0m \u001b[39mimport\u001b[39;00m \u001b[39mpandas\u001b[39;00m \u001b[39mas\u001b[39;00m \u001b[39mpd\u001b[39;00m\n\u001b[1;32m      <a href='vscode-notebook-cell://ssh-remote%2Bgpu05/archive/hot0/fxy/BLIP/try.ipynb#X11sdnNjb2RlLXJlbW90ZQ%3D%3D?line=2'>3</a>\u001b[0m \u001b[39m# import re  # 这个可以不用\u001b[39;00m\n",
      "File \u001b[0;32m~/.conda/envs/blip/lib/python3.9/site-packages/matchzoo/__init__.py:33\u001b[0m, in \u001b[0;36m<module>\u001b[0;34m\u001b[0m\n\u001b[1;32m     31\u001b[0m \u001b[39mfrom\u001b[39;00m \u001b[39m.\u001b[39;00m \u001b[39mimport\u001b[39;00m embedding\n\u001b[1;32m     32\u001b[0m \u001b[39mfrom\u001b[39;00m \u001b[39m.\u001b[39;00m \u001b[39mimport\u001b[39;00m datasets\n\u001b[0;32m---> 33\u001b[0m \u001b[39mfrom\u001b[39;00m \u001b[39m.\u001b[39;00m \u001b[39mimport\u001b[39;00m layers\n\u001b[1;32m     34\u001b[0m \u001b[39mfrom\u001b[39;00m \u001b[39m.\u001b[39;00m \u001b[39mimport\u001b[39;00m auto\n\u001b[1;32m     35\u001b[0m \u001b[39mfrom\u001b[39;00m \u001b[39m.\u001b[39;00m \u001b[39mimport\u001b[39;00m contrib\n",
      "File \u001b[0;32m~/.conda/envs/blip/lib/python3.9/site-packages/matchzoo/layers/__init__.py:1\u001b[0m, in \u001b[0;36m<module>\u001b[0;34m\u001b[0m\n\u001b[0;32m----> 1\u001b[0m \u001b[39mfrom\u001b[39;00m \u001b[39m.\u001b[39;00m\u001b[39mmatching_layer\u001b[39;00m \u001b[39mimport\u001b[39;00m MatchingLayer\n\u001b[1;32m      2\u001b[0m \u001b[39mfrom\u001b[39;00m \u001b[39m.\u001b[39;00m\u001b[39mdynamic_pooling_layer\u001b[39;00m \u001b[39mimport\u001b[39;00m DynamicPoolingLayer\n\u001b[1;32m      4\u001b[0m layer_dict \u001b[39m=\u001b[39m {\n\u001b[1;32m      5\u001b[0m     \u001b[39m\"\u001b[39m\u001b[39mMatchingLayer\u001b[39m\u001b[39m\"\u001b[39m: MatchingLayer,\n\u001b[1;32m      6\u001b[0m     \u001b[39m\"\u001b[39m\u001b[39mDynamicPoolingLayer\u001b[39m\u001b[39m\"\u001b[39m: DynamicPoolingLayer\n\u001b[1;32m      7\u001b[0m }\n",
      "File \u001b[0;32m~/.conda/envs/blip/lib/python3.9/site-packages/matchzoo/layers/matching_layer.py:5\u001b[0m, in \u001b[0;36m<module>\u001b[0;34m\u001b[0m\n\u001b[1;32m      2\u001b[0m \u001b[39mimport\u001b[39;00m \u001b[39mtyping\u001b[39;00m\n\u001b[1;32m      4\u001b[0m \u001b[39mimport\u001b[39;00m \u001b[39mtensorflow\u001b[39;00m \u001b[39mas\u001b[39;00m \u001b[39mtf\u001b[39;00m\n\u001b[0;32m----> 5\u001b[0m \u001b[39mfrom\u001b[39;00m \u001b[39mkeras\u001b[39;00m\u001b[39m.\u001b[39;00m\u001b[39mengine\u001b[39;00m \u001b[39mimport\u001b[39;00m Layer\n\u001b[1;32m      8\u001b[0m \u001b[39mclass\u001b[39;00m \u001b[39mMatchingLayer\u001b[39;00m(Layer):\n\u001b[1;32m      9\u001b[0m     \u001b[39m\"\"\"\u001b[39;00m\n\u001b[1;32m     10\u001b[0m \u001b[39m    Layer that computes a matching matrix between samples in two tensors.\u001b[39;00m\n\u001b[1;32m     11\u001b[0m \n\u001b[0;32m   (...)\u001b[0m\n\u001b[1;32m     26\u001b[0m \n\u001b[1;32m     27\u001b[0m \u001b[39m    \"\"\"\u001b[39;00m\n",
      "\u001b[0;31mImportError\u001b[0m: cannot import name 'Layer' from 'keras.engine' (/home/fxy0913@corp.sse.tongji.edu.cn/.conda/envs/blip/lib/python3.9/site-packages/keras/engine/__init__.py)"
     ]
    }
   ],
   "source": [
    "import matchzoo as mz\n",
    "import pandas as pd\n",
    "# import re  # 这个可以不用\n",
    "from sklearn import preprocessing  # 用于正则化\n",
    "import numpy as np \n",
    "preprocessor = mz.preprocessors.BasicPreprocessor() "
   ]
  },
  {
   "cell_type": "code",
   "execution_count": null,
   "metadata": {},
   "outputs": [],
   "source": []
  },
  {
   "cell_type": "code",
   "execution_count": 2,
   "metadata": {},
   "outputs": [
    {
     "name": "stderr",
     "output_type": "stream",
     "text": [
      "/home/fxy0913@corp.sse.tongji.edu.cn/.conda/envs/blip/lib/python3.9/site-packages/tqdm/auto.py:22: TqdmWarning: IProgress not found. Please update jupyter and ipywidgets. See https://ipywidgets.readthedocs.io/en/stable/user_install.html\n",
      "  from .autonotebook import tqdm as notebook_tqdm\n"
     ]
    }
   ],
   "source": [
    "import torch \n",
    "import torch.nn as nn\n",
    "\n",
    "\n",
    "class DSSM(nn.Module):\n",
    "    def __init__(self, vocab_size, embedding_dim, dropout):\n",
    "        super(DSSM, self).__init__()\n",
    "        self.embed = nn.Embedding(vocab_size, embedding_dim)\n",
    "        self.fc1 = nn.Linear(embedding_dim, 256)\n",
    "        self.fc2 = nn.Linear(256, 128)\n",
    "        self.fc3 = nn.Linear(128, 64)\n",
    "        self.dropout = nn.Dropout(dropout)\n",
    "\n",
    "    def forward(self, a, b):\n",
    "        a = self.embed(a).sum(1)\n",
    "        b = self.embed(b).sum(1)\n",
    "\n",
    "        a = self.dropout(torch.tanh(self.fc1(a)))\n",
    "        a = self.dropout(torch.tanh(self.fc2(a)))\n",
    "        a = self.dropout(torch.tanh(self.fc3(a)))\n",
    "\n",
    "        b = self.dropout(torch.tanh(self.fc1(b)))\n",
    "        b = self.dropout(torch.tanh(self.fc2(b)))\n",
    "        b = self.dropout(torch.tanh(self.fc3(b)))\n",
    "\n",
    "        cosine = torch.cosine_similarity(a, b, dim=1, eps=1e-8)   # 计算两个句子的余弦相似度\n",
    "        return cosine\n",
    "    \n",
    "    def _init_weights(self):\n",
    "        for m in self.modules():\n",
    "            if isinstance(m, nn.Linear):\n",
    "                torch.nn.init.xavier_uniform_(m.weight)\n",
    "\n",
    "\n",
    "\n"
   ]
  },
  {
   "cell_type": "code",
   "execution_count": null,
   "metadata": {},
   "outputs": [],
   "source": []
  },
  {
   "cell_type": "code",
   "execution_count": 6,
   "metadata": {},
   "outputs": [
    {
     "name": "stdout",
     "output_type": "stream",
     "text": [
      "tensor([[ 101, 2023, 2003, 1037, 2944, 1997, 3067,  102],\n",
      "        [ 101, 2023, 2003, 1037, 2944, 1997, 6737,  102],\n",
      "        [ 101,  102,    0,    0,    0,    0,    0,    0]])\n",
      "tensor([8, 8, 2])\n"
     ]
    }
   ],
   "source": [
    "from transformers import BertTokenizer\n",
    "import torch\n",
    "def init_tokenizer():\n",
    "    tokenizer = BertTokenizer.from_pretrained('bert-base-uncased')\n",
    "    tokenizer.add_special_tokens({'bos_token':'[DEC]'})\n",
    "    tokenizer.add_special_tokens({'additional_special_tokens':['[ENC]']})       \n",
    "    tokenizer.enc_token_id = tokenizer.additional_special_tokens_ids[0]  \n",
    "    return tokenizer\n",
    "tokenizer = init_tokenizer()\n",
    "t_list = ['this is a model of mine','this is a model of yours','']\n",
    "text1 = tokenizer(t_list,padding=True, return_tensors=\"pt\")\n",
    "print(text1.input_ids)\n",
    "caps_len = []\n",
    "for i in range(text1.attention_mask.shape[0]):\n",
    "    caps_len.append(torch.count_nonzero(text1.attention_mask[i]).item())\n",
    "\n",
    "caps_len = torch.tensor(caps_len)\n",
    "print(caps_len)\n",
    "# text2 = tokenizer('this is a model of mine', padding='longest', truncation=True, max_length=40, return_tensors=\"pt\")\n",
    "# print(text1.input_ids)\n",
    "# print(text2.input_ids)\n",
    "# model = DSSM(30522, 10, 0.2)\n",
    "# model._init_weights()\n",
    "# print(model(text1.input_ids,text2.input_ids))"
   ]
  },
  {
   "cell_type": "code",
   "execution_count": null,
   "metadata": {},
   "outputs": [],
   "source": []
  },
  {
   "cell_type": "code",
   "execution_count": 9,
   "metadata": {},
   "outputs": [
    {
     "name": "stdout",
     "output_type": "stream",
     "text": [
      "12345\n"
     ]
    }
   ],
   "source": [
    "caption = ['12345','122222','11111']\n",
    "print(caption[0])"
   ]
  },
  {
   "cell_type": "code",
   "execution_count": 14,
   "metadata": {},
   "outputs": [
    {
     "name": "stdout",
     "output_type": "stream",
     "text": [
      "tensor([[255, 455, 555, 677, 344, 342]])\n",
      "10.448413848876953\n",
      "tensor([[255, 455, 555, 677, 344, 342]])\n",
      "10.448413848876953\n"
     ]
    }
   ],
   "source": [
    "from torch.nn import CrossEntropyLoss\n",
    "from torch import tensor\n",
    "labels = [tensor([[-100,255,455,555,677,344,342]]),tensor([[-100,255,455,555,677,344,342]])]\n",
    "a = torch.rand(1,6,30524)\n",
    "for label in labels:\n",
    "    label = label[:,1:].contiguous()\n",
    "    print(label)\n",
    "    loss_fct = CrossEntropyLoss(reduction='mean', label_smoothing=0.1) \n",
    "    now_lm_loss = loss_fct(a.view(-1, 30524), label.view(-1))\n",
    "    print(now_lm_loss.item())\n",
    "\n"
   ]
  },
  {
   "cell_type": "code",
   "execution_count": 26,
   "metadata": {},
   "outputs": [
    {
     "name": "stdout",
     "output_type": "stream",
     "text": [
      "17\n",
      "torch.Size([50, 17])\n"
     ]
    }
   ],
   "source": [
    "import torch \n",
    "from torch.nn.utils.rnn import pad_sequence\n",
    "# import torch.nn.functional as F\n",
    "a = torch.rand(19,15)#seq_num * seq_len\n",
    "# a_list = list(torch.chunk(a, a.shape[0], dim = 0))\n",
    "c = torch.rand(31,17)\n",
    "# c_list = list(torch.chunk(c, c.shape[0], dim = 0))\n",
    "# print(c)\n",
    "list1 = [a,c]\n",
    "all_list = []\n",
    "# pad_sequence(list1)\n",
    "# print(list1.shape())\n",
    "for item in list1:\n",
    "    all_list += list(torch.chunk(item, item.shape[0], dim = 0))\n",
    "# all_list = [item.squeeze(0) for item in all_list]\n",
    "print(pad_sequence([item.squeeze(0) for item in all_list], batch_first=True).shape)\n",
    "\n",
    "# print(torch.cat(list1,dim=0))\n",
    "# print(a)\n",
    "# b = a[:,-1,:]\n",
    "# d = c[:,-1,:]\n",
    "# print(b)\n",
    "# b = torch.max (a,-1)\n",
    "# print(b)\n",
    "# print(b.indices.shape)\n",
    "# # c = torch.rand(1,5)\n",
    "# output = F.cosine_similarity(b,d)\n",
    "# print(output)\n",
    "# print(b.shape)"
   ]
  },
  {
   "cell_type": "code",
   "execution_count": 1,
   "metadata": {},
   "outputs": [
    {
     "ename": "NameError",
     "evalue": "name 'tensor' is not defined",
     "output_type": "error",
     "traceback": [
      "\u001b[0;31m---------------------------------------------------------------------------\u001b[0m",
      "\u001b[0;31mNameError\u001b[0m                                 Traceback (most recent call last)",
      "\u001b[1;32m/archive/hot0/fxy/BLIP/try.ipynb Cell 5\u001b[0m in \u001b[0;36m<cell line: 1>\u001b[0;34m()\u001b[0m\n\u001b[0;32m----> <a href='vscode-notebook-cell://ssh-remote%2Bgpu05/archive/hot0/fxy/BLIP/try.ipynb#W5sdnNjb2RlLXJlbW90ZQ%3D%3D?line=0'>1</a>\u001b[0m label \u001b[39m=\u001b[39m tensor([[\u001b[39m2551\u001b[39m,\u001b[39m2158\u001b[39m,\u001b[39m2012\u001b[39m,\u001b[39m25963\u001b[39m,\u001b[39m4713\u001b[39m,\u001b[39m102\u001b[39m]])\n",
      "\u001b[0;31mNameError\u001b[0m: name 'tensor' is not defined"
     ]
    }
   ],
   "source": [
    "import torch\n",
    "from torch import tensor\n",
    "label = tensor([[2551,2158,2012,25963,4713,102]])\n",
    "shaped_prediction_score = torch.rand(1,6,30524)\n",
    "score = shaped_prediction_score.view(-1,30524)\n",
    "\n",
    "\n",
    "def self_loss(score,):\n"
   ]
  },
  {
   "cell_type": "code",
   "execution_count": 11,
   "metadata": {},
   "outputs": [
    {
     "name": "stdout",
     "output_type": "stream",
     "text": [
      "12345\n",
      "122222\n",
      "11111\n"
     ]
    }
   ],
   "source": [
    "for content in caption:\n",
    "    # print(i)\n",
    "    print(content)"
   ]
  },
  {
   "cell_type": "code",
   "execution_count": 8,
   "metadata": {},
   "outputs": [
    {
     "name": "stdout",
     "output_type": "stream",
     "text": [
      "torch.Size([3, 10])\n",
      "tensor([  101,  1109,  2084, 18884,  1116,  1103,  3181,  1107,  2290,   102])\n"
     ]
    }
   ],
   "source": [
    "from torch import tensor\n",
    "import torch\n",
    "a = tensor([[  101,  7661,  8917,  1106,  1103,  2394,  1107,  3461,   102,     0],\n",
    "        [  101,  1109,  2084, 18884,  1116,  1103,  3181,  1107,  2290,   102],\n",
    "        [  101,  6309,  1116,  1132,  1139,  5095,  5735,   102,     0,     0]])\n",
    "print(a.shape)\n",
    "# print(torch.split(a,[1,a.shape[1],a.shape[-1]],dim=0))\n",
    "print(a[1])"
   ]
  },
  {
   "cell_type": "code",
   "execution_count": 25,
   "metadata": {},
   "outputs": [
    {
     "name": "stdout",
     "output_type": "stream",
     "text": [
      "[tensor([[10094, 13308, 27979, 27243,  5266, 22096, 19693, 13603, 26285]]), tensor([[18413,  2657, 21581, 16733,    86, 22866, 11966, 27904, 14086]]), tensor([[16133,  7627, 19829, 10808, 23843, 21130, 29533, 14019, 28984]])]\n",
      "0\n",
      "inside\n",
      "tensor([[18413,  2657, 21581, 16733,    86, 22866, 11966, 27904, 14086]])\n",
      "tensor([0.8855])\n",
      "inside\n",
      "tensor([[16133,  7627, 19829, 10808, 23843, 21130, 29533, 14019, 28984]])\n",
      "tensor([0.8836])\n",
      "1\n",
      "inside\n",
      "tensor([[16133,  7627, 19829, 10808, 23843, 21130, 29533, 14019, 28984]])\n",
      "tensor([0.8004])\n",
      "2\n",
      "[tensor([0.8855]), tensor([0.8836]), tensor([0.8004])]\n"
     ]
    }
   ],
   "source": [
    "import torch.nn.functional as F\n",
    "result1 = torch.randn(1,9,30524)\n",
    "result2 = torch.randn(1,9,30524)\n",
    "result3 = torch.randn(1,9,30524)\n",
    "res_list = []\n",
    "res_list.append(torch.max(result1,-1).indices)\n",
    "res_list.append(torch.max(result2,-1).indices)\n",
    "res_list.append(torch.max(result3,-1).indices)\n",
    "print(res_list)\n",
    "all_reg_loss_list = []\n",
    "main_idx = 0\n",
    "for main_idx in range(0,len(res_list)):\n",
    "    print(main_idx)\n",
    "    mainTensor = res_list[main_idx]\n",
    "    for res_new in res_list[main_idx+1:]:\n",
    "        print(\"inside\")\n",
    "        print(res_new)\n",
    "        output = F.cosine_similarity(mainTensor.float(),res_new.float())\n",
    "        print(output)\n",
    "        # print(tensor.sum(output,1))\n",
    "        # print(output)\n",
    "        all_reg_loss_list.append(output)\n",
    "print(all_reg_loss_list)\n",
    "sum_reg_loss = torch.zeros_like(all_reg_loss_list[0])\n",
    "for reg_loss in all_reg_loss_list:\n",
    "    sum_reg_loss += reg_loss\n",
    "print(sum_reg_loss)\n"
   ]
  },
  {
   "cell_type": "code",
   "execution_count": 36,
   "metadata": {},
   "outputs": [
    {
     "name": "stdout",
     "output_type": "stream",
     "text": [
      "tensor([481.9524])\n",
      "torch.Size([1])\n",
      "tensor([10121,   123])\n"
     ]
    }
   ],
   "source": [
    "a = torch.ones([1,9,30524])\n",
    "b = torch.ones([1,9,30524])\n",
    "b = torch.cat([a,b],0)\n",
    "a = tensor([10121])\n",
    "b = tensor([123])\n",
    "print(a/21)\n",
    "print(b.size())\n",
    "# print(b[1].size())\n",
    "print(torch.cat([a,b]))"
   ]
  },
  {
   "cell_type": "code",
   "execution_count": 38,
   "metadata": {},
   "outputs": [
    {
     "ename": "ValueError",
     "evalue": "only one element tensors can be converted to Python scalars",
     "output_type": "error",
     "traceback": [
      "\u001b[0;31m---------------------------------------------------------------------------\u001b[0m",
      "\u001b[0;31mValueError\u001b[0m                                Traceback (most recent call last)",
      "\u001b[1;32m/archive/hot0/fxy/BLIP/try.ipynb Cell 16\u001b[0m in \u001b[0;36m<cell line: 2>\u001b[0;34m()\u001b[0m\n\u001b[1;32m      <a href='vscode-notebook-cell://ssh-remote%2Bgpu05/archive/hot0/fxy/BLIP/try.ipynb#X21sdnNjb2RlLXJlbW90ZQ%3D%3D?line=0'>1</a>\u001b[0m a \u001b[39m=\u001b[39m tensor([\u001b[39m1\u001b[39m,\u001b[39m2\u001b[39m])\n\u001b[0;32m----> <a href='vscode-notebook-cell://ssh-remote%2Bgpu05/archive/hot0/fxy/BLIP/try.ipynb#X21sdnNjb2RlLXJlbW90ZQ%3D%3D?line=1'>2</a>\u001b[0m \u001b[39mprint\u001b[39m(a\u001b[39m.\u001b[39;49mitem())\n",
      "\u001b[0;31mValueError\u001b[0m: only one element tensors can be converted to Python scalars"
     ]
    }
   ],
   "source": [
    "# a = tensor([1,2])\n",
    "# print(a.item())\n"
   ]
  },
  {
   "cell_type": "code",
   "execution_count": 2,
   "metadata": {},
   "outputs": [
    {
     "name": "stdout",
     "output_type": "stream",
     "text": [
      "a =  tensor([[1., 1., 1., 1., 1., 1., 1., 1., 1., 1., 1., 1., 1., 1., 1., 1., 1., 1.,\n",
      "         1., 1., 1., 1., 1., 1., 1., 1., 1., 1., 1., 1., 1., 1., 1., 1., 1., 1.,\n",
      "         1., 1., 1., 1., 1., 1., 1., 1., 1., 1., 1., 1., 1., 1., 1., 1., 1., 1.,\n",
      "         1., 1., 1., 1., 1., 1., 1., 1., 1., 1., 1., 1., 1., 1., 1., 1., 1., 1.,\n",
      "         1., 1., 1., 1., 1., 1., 1., 1., 1., 1., 1., 1., 1., 1., 1., 1., 1., 1.,\n",
      "         1., 1., 1., 1., 1., 1., 1., 1., 1., 1., 1., 1., 1., 1., 1., 1., 1., 1.,\n",
      "         1., 1., 1., 1., 1., 1., 1., 1., 1., 1., 1., 1., 1., 1., 1., 1., 1., 1.,\n",
      "         1., 1., 1., 1., 1., 1., 1., 1., 1., 1., 1., 1., 1., 1., 1., 1., 1., 1.,\n",
      "         1., 1., 1., 1., 1., 1., 1., 1., 1., 1., 1., 1., 1., 1., 1., 1., 1., 1.,\n",
      "         1., 1., 1., 1., 1., 1., 1., 1., 1., 1., 1., 1., 1., 1., 1., 1., 1., 1.,\n",
      "         1., 1., 1., 1., 1., 1., 1., 1., 1., 1., 1., 1., 1., 1., 1., 1., 1., 1.,\n",
      "         1., 1., 1., 1., 1., 1., 1., 1., 1., 1., 1., 1., 1., 1., 1., 1., 1., 1.,\n",
      "         1., 1., 1., 1., 1., 1., 1., 1., 1., 1., 1., 1., 1., 1., 1., 1., 1., 1.,\n",
      "         1., 1., 1., 1., 1., 1., 1., 1., 1., 1., 1., 1., 1., 1., 1., 1., 1., 1.,\n",
      "         1., 1., 1., 1., 1., 1., 1., 1., 1., 1., 1., 1., 1., 1., 1., 1., 1., 1.,\n",
      "         1., 1., 1., 1., 1., 1., 1., 1., 1., 1., 1., 1., 1., 1., 1., 1., 1., 1.,\n",
      "         1., 1., 1., 1., 1., 1., 1., 1., 1., 1., 1., 1., 1., 1., 1., 1., 1., 1.,\n",
      "         1., 1., 1., 1., 1., 1., 1., 1., 1., 1., 1., 1., 1., 1., 1., 1., 1., 1.,\n",
      "         1., 1., 1., 1., 1., 1., 1., 1., 1., 1., 1., 1., 1., 1., 1., 1., 1., 1.,\n",
      "         1., 1., 1., 1., 1., 1., 1., 1., 1., 1., 1., 1., 1., 1., 1., 1., 1., 1.,\n",
      "         1., 1., 1., 1., 1., 1., 1., 1., 1., 1., 1., 1., 1., 1., 1., 1., 1., 1.,\n",
      "         1., 1., 1., 1., 1., 1., 1., 1., 1., 1., 1., 1., 1., 1., 1., 1., 1., 1.,\n",
      "         1., 1., 1., 1., 1., 1., 1., 1., 1., 1., 1., 1., 1., 1., 1., 1., 1., 1.,\n",
      "         1., 1., 1., 1., 1., 1., 1., 1., 1., 1., 1., 1., 1., 1., 1., 1., 1., 1.,\n",
      "         1., 1., 1., 1., 1., 1., 1., 1., 1., 1., 1., 1., 1., 1., 1., 1., 1., 1.,\n",
      "         1., 1., 1., 1., 1., 1., 1., 1., 1., 1., 1., 1., 1., 1., 1., 1., 1., 1.,\n",
      "         1., 1., 1., 1., 1., 1., 1., 1., 1., 1., 1., 1., 1., 1., 1., 1., 1., 1.,\n",
      "         1., 1., 1., 1., 1., 1., 1., 1., 1., 1., 1., 1., 1., 1., 1., 1., 1., 1.,\n",
      "         1., 1., 1., 1., 1., 1., 1., 1., 1., 1., 1., 1., 1., 1., 1., 1., 1., 1.,\n",
      "         1., 1., 1., 1., 1., 1., 1., 1., 1., 1., 1., 1., 1., 1., 1., 1., 1., 1.,\n",
      "         1., 1., 1., 1., 1., 1., 1., 1., 1., 1., 1., 1., 1., 1., 1., 1., 1., 1.,\n",
      "         1., 1., 1., 1., 1., 1., 1., 1., 1., 1., 1., 1., 1., 1., 1., 1., 1., 1.,\n",
      "         1.]])\n",
      "[tensor([[1., 1., 1., 1., 1., 1., 1., 1., 1., 1., 1., 1., 1., 1., 1., 1., 1., 1.,\n",
      "         1., 1., 1., 1., 1., 1., 1., 1., 1., 1., 1., 1., 1., 1., 1., 1., 1., 1.,\n",
      "         1., 1., 1., 1., 1., 1., 1., 1., 1., 1., 1., 1., 1., 1., 1., 1., 1., 1.,\n",
      "         1., 1., 1., 1., 1., 1., 1., 1., 1., 1., 1., 1., 1., 1., 1., 1., 1., 1.,\n",
      "         1., 1., 1., 1., 1., 1., 1., 1., 1., 1., 1., 1., 1., 1., 1., 1., 1., 1.,\n",
      "         1., 1., 1., 1., 1., 1., 1., 1., 1., 1., 1., 1., 1., 1., 1., 1., 1., 1.,\n",
      "         1., 1., 1., 1., 1., 1., 1., 1., 1., 1., 1., 1., 1., 1., 1., 1., 1., 1.,\n",
      "         1., 1., 1., 1., 1., 1., 1., 1., 1., 1., 1., 1., 1., 1., 1., 1., 1., 1.,\n",
      "         1., 1., 1., 1., 1., 1., 1., 1., 1., 1., 1., 1., 1., 1., 1., 1., 1., 1.,\n",
      "         1., 1., 1., 1., 1., 1., 1., 1., 1., 1., 1., 1., 1., 1., 1., 1., 1., 1.,\n",
      "         1., 1., 1., 1., 1., 1., 1., 1., 1., 1., 1., 1., 1., 1., 1., 1., 1., 1.,\n",
      "         1., 1., 1., 1., 1., 1., 1., 1., 1., 1., 1., 1., 1., 1., 1., 1., 1., 1.,\n",
      "         1., 1., 1., 1., 1., 1., 1., 1., 1., 1., 1., 1., 1., 1., 1., 1., 1., 1.,\n",
      "         1., 1., 1., 1., 1., 1., 1., 1., 1., 1., 1., 1., 1., 1., 1., 1., 1., 1.,\n",
      "         1., 1., 1., 1., 1., 1., 1., 1., 1., 1., 1., 1., 1., 1., 1., 1., 1., 1.,\n",
      "         1., 1., 1., 1., 1., 1., 1., 1., 1., 1., 1., 1., 1., 1., 1., 1., 1., 1.,\n",
      "         1., 1., 1., 1., 1., 1., 1., 1., 1., 1., 1., 1., 1., 1., 1., 1., 1., 1.,\n",
      "         1., 1., 1., 1., 1., 1., 1., 1., 1., 1., 1., 1., 1., 1., 1., 1., 1., 1.,\n",
      "         1., 1., 1., 1., 1., 1., 1., 1., 1., 1., 1., 1., 1., 1., 1., 1., 1., 1.,\n",
      "         1., 1., 1., 1., 1., 1., 1., 1., 1., 1., 1., 1., 1., 1., 1., 1., 1., 1.,\n",
      "         1., 1., 1., 1., 1., 1., 1., 1., 1., 1., 1., 1., 1., 1., 1., 1., 1., 1.,\n",
      "         1., 1., 1., 1., 1., 1., 1., 1., 1., 1., 1., 1., 1., 1., 1., 1., 1., 1.,\n",
      "         1., 1., 1., 1., 1., 1., 1., 1., 1., 1., 1., 1., 1., 1., 1., 1., 1., 1.,\n",
      "         1., 1., 1., 1., 1., 1., 1., 1., 1., 1., 1., 1., 1., 1., 1., 1., 1., 1.,\n",
      "         1., 1., 1., 1., 1., 1., 1., 1., 1., 1., 1., 1., 1., 1., 1., 1., 1., 1.,\n",
      "         1., 1., 1., 1., 1., 1., 1., 1., 1., 1., 1., 1., 1., 1., 1., 1., 1., 1.,\n",
      "         1., 1., 1., 1., 1., 1., 1., 1., 1., 1., 1., 1., 1., 1., 1., 1., 1., 1.,\n",
      "         1., 1., 1., 1., 1., 1., 1., 1., 1., 1., 1., 1., 1., 1., 1., 1., 1., 1.,\n",
      "         1., 1., 1., 1., 1., 1., 1., 1., 1., 1., 1., 1., 1., 1., 1., 1., 1., 1.,\n",
      "         1., 1., 1., 1., 1., 1., 1., 1., 1., 1., 1., 1., 1., 1., 1., 1., 1., 1.,\n",
      "         1., 1., 1., 1., 1., 1., 1., 1., 1., 1., 1., 1., 1., 1., 1., 1., 1., 1.,\n",
      "         1., 1., 1., 1., 1., 1., 1., 1., 1., 1., 1., 1., 1., 1., 1., 1., 1., 1.,\n",
      "         1.]]), tensor([[1, 2, 3, 4]])]\n"
     ]
    }
   ],
   "source": [
    "import torch\n",
    "from torch import tensor\n",
    "import json\n",
    "def delete_duplicate(data):\n",
    "    immutable_dict = set([str(item) for item in data])\n",
    "    data = [eval(i) for i in immutable_dict]\n",
    "    return data\n",
    "def unique_dicts(data_list: list):\n",
    "    data_json_set = set(json.dumps(item) for item in data_list)\n",
    "    return [json.loads(item) for item in data_json_set]\n",
    "\n",
    "print(\"a = \", a) \n",
    "#a = [{'image_id': 0,'phrase_list':[{'caption':'data','tensor':a},{'caption':'data','tensor':a},{'caption':'data1','tensor':a}]},]\n",
    "a = [a,a,a,a,a,a,tensor([[1,2,3,4]])]\n",
    "b = list(set(a))\n",
    "# b = delete_duplicate(a[0]['phrase_list'])\n",
    "print(b)"
   ]
  },
  {
   "cell_type": "code",
   "execution_count": 8,
   "metadata": {},
   "outputs": [
    {
     "name": "stdout",
     "output_type": "stream",
     "text": [
      "[[0.0, 1.0, 1.0, 1.0, 1.0, 1.0, 1.0, 1.0, 1.0, 1.0, 1.0, 1.0, 1.0, 1.0, 1.0, 1.0, 1.0, 1.0, 1.0, 1.0, 1.0, 1.0, 1.0, 1.0, 1.0, 1.0, 1.0, 1.0, 1.0, 1.0, 1.0, 1.0, 1.0, 1.0, 1.0, 1.0, 1.0, 1.0, 1.0, 1.0, 1.0, 1.0, 1.0, 1.0, 1.0, 1.0, 1.0, 1.0, 1.0, 1.0, 1.0, 1.0, 1.0, 1.0, 1.0, 1.0, 1.0, 1.0, 1.0, 1.0, 1.0, 1.0, 1.0, 1.0, 1.0, 1.0, 1.0, 1.0, 1.0, 1.0, 1.0, 1.0, 1.0, 1.0, 1.0, 1.0, 1.0, 1.0, 1.0, 1.0, 1.0, 1.0, 1.0, 1.0, 1.0, 1.0, 1.0, 1.0, 1.0, 1.0, 1.0, 1.0, 1.0, 1.0, 1.0, 1.0, 1.0, 1.0, 1.0, 1.0, 1.0, 1.0, 1.0, 1.0, 1.0, 1.0, 1.0, 1.0, 1.0, 1.0, 1.0, 1.0, 1.0, 1.0, 1.0, 1.0, 1.0, 1.0, 1.0, 1.0, 1.0, 1.0, 1.0, 0.0, 1.0, 1.0, 1.0, 1.0, 1.0, 1.0, 1.0, 1.0, 1.0, 1.0, 1.0, 1.0, 1.0, 1.0, 1.0, 1.0, 1.0, 1.0, 1.0, 1.0, 1.0, 1.0, 1.0, 1.0, 1.0, 1.0, 1.0, 1.0, 1.0, 1.0, 1.0, 1.0, 1.0, 1.0, 1.0, 1.0, 1.0, 1.0, 1.0, 1.0, 1.0, 1.0, 1.0, 1.0, 1.0, 1.0, 1.0, 1.0, 1.0, 1.0, 1.0, 1.0, 1.0, 1.0, 1.0, 1.0, 1.0, 1.0, 1.0, 1.0, 1.0, 1.0, 1.0, 1.0, 1.0, 1.0, 1.0, 1.0, 1.0, 1.0, 1.0, 1.0, 1.0, 1.0, 1.0, 1.0, 1.0, 1.0, 1.0, 1.0, 1.0, 1.0, 1.0, 1.0, 1.0, 1.0, 1.0, 1.0, 1.0, 1.0, 1.0, 1.0, 1.0, 1.0, 1.0, 1.0, 1.0, 1.0, 1.0, 1.0, 1.0, 1.0, 1.0, 1.0, 1.0, 1.0, 1.0, 1.0, 1.0, 1.0, 1.0, 1.0, 1.0, 1.0, 1.0, 1.0, 1.0, 1.0, 1.0, 1.0, 1.0, 1.0, 1.0, 1.0, 1.0, 1.0, 1.0, 1.0, 1.0, 1.0, 1.0, 1.0, 1.0, 0.0, 1.0, 1.0, 1.0, 1.0, 1.0, 1.0, 1.0, 1.0, 1.0, 1.0, 1.0, 1.0, 1.0, 1.0, 1.0, 1.0, 1.0, 1.0, 1.0, 1.0, 1.0, 1.0, 1.0, 1.0, 1.0, 1.0, 1.0, 1.0, 1.0, 1.0, 1.0, 1.0, 1.0, 1.0, 1.0, 1.0, 1.0, 1.0, 1.0, 1.0, 1.0, 1.0, 1.0, 1.0, 1.0, 1.0, 1.0, 1.0, 1.0, 1.0, 1.0, 1.0, 1.0, 1.0, 1.0, 1.0, 1.0, 1.0, 1.0, 1.0, 1.0, 1.0, 1.0, 1.0, 1.0, 1.0, 1.0, 1.0, 1.0, 1.0, 1.0, 1.0, 1.0, 1.0, 1.0, 1.0, 1.0, 1.0, 1.0, 1.0, 1.0, 1.0, 1.0, 1.0, 1.0, 1.0, 1.0, 1.0, 1.0, 1.0, 1.0, 1.0, 1.0, 1.0, 1.0, 1.0, 1.0, 1.0, 1.0, 1.0, 1.0, 1.0, 1.0, 1.0, 1.0, 1.0, 1.0, 1.0, 1.0, 1.0, 1.0, 1.0, 1.0, 1.0, 1.0, 1.0, 1.0, 1.0, 1.0, 1.0, 1.0, 1.0, 1.0, 1.0, 1.0, 1.0, 1.0, 1.0, 1.0, 1.0, 1.0, 1.0, 1.0, 1.0, 1.0, 1.0, 1.0, 1.0, 1.0, 1.0, 1.0, 1.0, 1.0, 1.0, 1.0, 1.0, 1.0, 1.0, 1.0, 1.0, 1.0, 1.0, 1.0, 1.0, 1.0, 1.0, 1.0, 1.0, 1.0, 1.0, 1.0, 1.0, 1.0, 1.0, 1.0, 1.0, 1.0, 1.0, 1.0, 1.0, 1.0, 1.0, 1.0, 1.0, 1.0, 1.0, 1.0, 1.0, 1.0, 1.0, 1.0, 1.0, 1.0, 1.0, 1.0, 1.0, 1.0, 1.0, 1.0, 1.0, 1.0, 1.0, 1.0, 1.0, 1.0, 1.0, 1.0, 1.0, 1.0, 1.0, 1.0, 1.0, 1.0, 1.0, 1.0, 1.0, 1.0, 1.0, 1.0, 1.0, 1.0, 1.0, 1.0, 1.0, 1.0, 1.0, 1.0, 1.0, 1.0, 1.0, 1.0, 1.0, 1.0, 1.0, 1.0, 1.0, 1.0, 1.0, 1.0, 1.0, 1.0, 1.0, 1.0, 1.0, 1.0, 1.0, 1.0, 1.0, 1.0, 1.0, 1.0, 1.0, 1.0, 1.0, 1.0, 1.0, 1.0, 1.0, 1.0, 1.0, 1.0, 1.0, 1.0, 1.0, 1.0, 1.0, 1.0, 1.0, 1.0, 1.0, 1.0, 1.0, 1.0, 1.0, 1.0, 1.0, 1.0, 1.0, 1.0, 1.0, 1.0, 1.0, 1.0, 1.0, 1.0, 1.0, 1.0, 1.0, 1.0, 1.0, 1.0, 1.0, 1.0, 1.0, 1.0, 1.0, 1.0, 1.0, 1.0, 1.0, 1.0, 1.0, 1.0, 1.0, 1.0, 1.0, 1.0, 1.0, 1.0, 1.0, 1.0, 1.0, 1.0, 1.0, 1.0, 1.0, 1.0, 1.0, 1.0, 1.0, 1.0, 1.0, 1.0, 1.0, 1.0, 1.0, 1.0, 1.0, 1.0]]\n",
      "tensor([[0., 1., 1., 1., 1., 1., 1., 1., 1., 1., 1., 1., 1., 1., 1., 1., 1., 1.,\n",
      "         1., 1., 1., 1., 1., 1., 1., 1., 1., 1., 1., 1., 1., 1., 1., 1., 1., 1.,\n",
      "         1., 1., 1., 1., 1., 1., 1., 1., 1., 1., 1., 1., 1., 1., 1., 1., 1., 1.,\n",
      "         1., 1., 1., 1., 1., 1., 1., 1., 1., 1., 1., 1., 1., 1., 1., 1., 1., 1.,\n",
      "         1., 1., 1., 1., 1., 1., 1., 1., 1., 1., 1., 1., 1., 1., 1., 1., 1., 1.,\n",
      "         1., 1., 1., 1., 1., 1., 1., 1., 1., 1., 1., 1., 1., 1., 1., 1., 1., 1.,\n",
      "         1., 1., 1., 1., 1., 1., 1., 1., 1., 1., 1., 1., 1., 1., 1., 0., 1., 1.,\n",
      "         1., 1., 1., 1., 1., 1., 1., 1., 1., 1., 1., 1., 1., 1., 1., 1., 1., 1.,\n",
      "         1., 1., 1., 1., 1., 1., 1., 1., 1., 1., 1., 1., 1., 1., 1., 1., 1., 1.,\n",
      "         1., 1., 1., 1., 1., 1., 1., 1., 1., 1., 1., 1., 1., 1., 1., 1., 1., 1.,\n",
      "         1., 1., 1., 1., 1., 1., 1., 1., 1., 1., 1., 1., 1., 1., 1., 1., 1., 1.,\n",
      "         1., 1., 1., 1., 1., 1., 1., 1., 1., 1., 1., 1., 1., 1., 1., 1., 1., 1.,\n",
      "         1., 1., 1., 1., 1., 1., 1., 1., 1., 1., 1., 1., 1., 1., 1., 1., 1., 1.,\n",
      "         1., 1., 1., 1., 1., 1., 1., 1., 1., 1., 1., 1., 1., 1., 1., 1., 1., 1.,\n",
      "         1., 1., 1., 1., 1., 0., 1., 1., 1., 1., 1., 1., 1., 1., 1., 1., 1., 1.,\n",
      "         1., 1., 1., 1., 1., 1., 1., 1., 1., 1., 1., 1., 1., 1., 1., 1., 1., 1.,\n",
      "         1., 1., 1., 1., 1., 1., 1., 1., 1., 1., 1., 1., 1., 1., 1., 1., 1., 1.,\n",
      "         1., 1., 1., 1., 1., 1., 1., 1., 1., 1., 1., 1., 1., 1., 1., 1., 1., 1.,\n",
      "         1., 1., 1., 1., 1., 1., 1., 1., 1., 1., 1., 1., 1., 1., 1., 1., 1., 1.,\n",
      "         1., 1., 1., 1., 1., 1., 1., 1., 1., 1., 1., 1., 1., 1., 1., 1., 1., 1.,\n",
      "         1., 1., 1., 1., 1., 1., 1., 1., 1., 1., 1., 1., 1., 1., 1., 1., 1., 1.,\n",
      "         1., 1., 1., 1., 1., 1., 1., 1., 1., 1., 1., 1., 1., 1., 1., 1., 1., 1.,\n",
      "         1., 1., 1., 1., 1., 1., 1., 1., 1., 1., 1., 1., 1., 1., 1., 1., 1., 1.,\n",
      "         1., 1., 1., 1., 1., 1., 1., 1., 1., 1., 1., 1., 1., 1., 1., 1., 1., 1.,\n",
      "         1., 1., 1., 1., 1., 1., 1., 1., 1., 1., 1., 1., 1., 1., 1., 1., 1., 1.,\n",
      "         1., 1., 1., 1., 1., 1., 1., 1., 1., 1., 1., 1., 1., 1., 1., 1., 1., 1.,\n",
      "         1., 1., 1., 1., 1., 1., 1., 1., 1., 1., 1., 1., 1., 1., 1., 1., 1., 1.,\n",
      "         1., 1., 1., 1., 1., 1., 1., 1., 1., 1., 1., 1., 1., 1., 1., 1., 1., 1.,\n",
      "         1., 1., 1., 1., 1., 1., 1., 1., 1., 1., 1., 1., 1., 1., 1., 1., 1., 1.,\n",
      "         1., 1., 1., 1., 1., 1., 1., 1., 1., 1., 1., 1., 1., 1., 1., 1., 1., 1.,\n",
      "         1., 1., 1., 1., 1., 1., 1., 1., 1., 1., 1., 1., 1., 1., 1., 1., 1., 1.,\n",
      "         1., 1., 1., 1., 1., 1., 1., 1., 1., 1., 1., 1., 1., 1., 1., 1., 1., 1.,\n",
      "         1.]], dtype=torch.float64)\n"
     ]
    }
   ],
   "source": [
    "import numpy as np\n",
    "import torch\n",
    "from torch import tensor\n",
    "import json\n",
    "a = torch.ones([1, 577]) \n",
    "a[0][0]=0\n",
    "a[0][123]=0\n",
    "a[0][257]=0\n",
    "a_list=[]\n",
    "b_list=[]\n",
    "bnew={\"caption\":\"hhhh\",\"tensor\":a.numpy().tolist()}\n",
    "b_list.append(bnew)\n",
    "b_list.append(bnew)\n",
    "a_list.append({\"image_id\":245,\"phrase_list\":b_list})\n",
    "print(a.numpy().tolist())\n",
    "with open(\"1.json\",\"w\") as f1:\n",
    "    json.dump(a_list,f1)\n",
    "with open(\"1.json\",\"r\") as f:\n",
    "    nwe = json.load(f)\n",
    "print(torch.from_numpy(np.array(nwe[0][\"phrase_list\"][0][\"tensor\"])))"
   ]
  },
  {
   "cell_type": "code",
   "execution_count": 14,
   "metadata": {},
   "outputs": [
    {
     "name": "stdout",
     "output_type": "stream",
     "text": [
      "torch.Size([1, 577])\n"
     ]
    }
   ],
   "source": [
    "a = torch.ones([2, 1, 577]) \n",
    "a_list.append(a)\n",
    "a_list.append(a)\n",
    "a_list.append(a)\n",
    "print(a_list[1][0].size())"
   ]
  },
  {
   "cell_type": "code",
   "execution_count": 10,
   "metadata": {},
   "outputs": [
    {
     "name": "stdout",
     "output_type": "stream",
     "text": [
      "3.0\n",
      "tensor([ 0.8847, -0.6185,  1.0276,  0.0298,  0.5165, -0.2820, -0.5032,  1.0705])\n"
     ]
    },
    {
     "data": {
      "text/plain": [
       "tensor([0.0861])"
      ]
     },
     "execution_count": 10,
     "metadata": {},
     "output_type": "execute_result"
    }
   ],
   "source": [
    "import torch\n",
    "import torch.nn.functional as F\n",
    "a = torch.tensor([0])\n",
    "print(180.6//(180.6//3.657))\n",
    "prediction_res = torch.randn(15,8)\n",
    "print(prediction_res[8])\n",
    "F.cosine_similarity(prediction_res[7].unsqueeze(0).float(),prediction_res[8].unsqueeze(0).float())"
   ]
  },
  {
   "cell_type": "code",
   "execution_count": null,
   "metadata": {},
   "outputs": [
    {
     "ename": "",
     "evalue": "",
     "output_type": "error",
     "traceback": [
      "\u001b[1;31mRunning cells with 'Python 3.10.5 ('BLIPM')' requires ipykernel package.\n",
      "\u001b[1;31mRun the following command to install 'ipykernel' into the Python environment. \n",
      "\u001b[1;31mCommand: 'conda install -n BLIPM ipykernel --update-deps --force-reinstall'"
     ]
    }
   ],
   "source": [
    "a = torch.randn(1,8,30524)\n",
    "a = torch.argmax(a,dim=2)\n",
    "print(a)"
   ]
  },
  {
   "cell_type": "code",
   "execution_count": 2,
   "metadata": {},
   "outputs": [],
   "source": [
    "import json\n",
    "ann_root = '/home/hcui25/Research/BLIP-MultiDecoder/annotation'\n",
    "filename = 'dense_train.json'\n",
    "annotation = json.load(open(os.path.join(ann_root,filename),'r'))\n",
    "tf_idf_name = 'dense_train_predicate_tfidf_score_2.json'\n",
    "corresponding_tf_idf = json.load(open(os.path.join(ann_root,tf_idf_name),'r'))"
   ]
  },
  {
   "cell_type": "code",
   "execution_count": 6,
   "metadata": {},
   "outputs": [
    {
     "name": "stdout",
     "output_type": "stream",
     "text": [
      "{'predicate': 'has', 'tf_idf_score': 0.24428512292276455, 'original_phrase': 'brown bear has brown hat'}\n",
      "select!\n",
      "{'predicate': 'in', 'tf_idf_score': 0.17412517402626643, 'original_phrase': 'beige bear in box'}\n",
      "select!\n",
      "{'predicate': 'in', 'tf_idf_score': 0.17412517402626643, 'original_phrase': 'brown bear in box'}\n",
      "select!\n",
      "{'predicate': 'under', 'tf_idf_score': 0.1751989439614817, 'original_phrase': 'white table under beige bear'}\n",
      "{'predicate': 'for', 'tf_idf_score': 0.23914875653791917, 'original_phrase': 'the box for brown bear'}\n",
      "select!\n",
      "{'predicate': 'has', 'tf_idf_score': 0.24428512292276455, 'original_phrase': 'beige bear has brown nose'}\n",
      "{'predicate': 'has', 'tf_idf_score': 0.24428512292276455, 'original_phrase': 'brown bear has eye'}\n",
      "select!\n",
      "{'predicate': 'has', 'tf_idf_score': 0.24428512292276455, 'original_phrase': 'beige bear has leg'}\n",
      "{'predicate': 'has', 'tf_idf_score': 0.24428512292276455, 'original_phrase': 'brown bear has foot'}\n",
      "select!\n",
      "{'predicate': 'has', 'tf_idf_score': 0.24428512292276455, 'original_phrase': 'beige bear has arm'}\n",
      "{'predicate': 'has', 'tf_idf_score': 0.24428512292276455, 'original_phrase': 'brown bear has black eyes'}\n",
      "select!\n",
      "{'predicate': 'has', 'tf_idf_score': 0.24428512292276455, 'original_phrase': 'beige bear has grey ear'}\n",
      "select!\n",
      "{'predicate': 'on', 'tf_idf_score': -0.184616858053671, 'original_phrase': 'grey ear on brown bear'}\n",
      "{'predicate': 'has', 'tf_idf_score': 0.24428512292276455, 'original_phrase': 'beige bear has patch'}\n",
      "{'predicate': 'on', 'tf_idf_score': -0.184616858053671, 'original_phrase': 'the letters on foot'}\n",
      "select!\n",
      "{'predicate': 'has', 'tf_idf_score': 0.24428512292276455, 'original_phrase': 'beige bear has tag'}\n",
      "select!\n",
      "{'predicate': 'in', 'tf_idf_score': 0.17412517402626643, 'original_phrase': 'beige bear in container'}\n",
      "select!\n",
      "{'predicate': 'has', 'tf_idf_score': 0.24428512292276455, 'original_phrase': 'beige bear has eye'}\n",
      "select!\n",
      "{'predicate': 'has', 'tf_idf_score': 0.24428512292276455, 'original_phrase': 'brown bear has hand'}\n",
      "select!\n",
      "{'predicate': 'wearing', 'tf_idf_score': 0.15803281083998802, 'original_phrase': 'beige bear wearing gray hat'}\n",
      "{'predicate': 'wearing', 'tf_idf_score': 0.15803281083998802, 'original_phrase': 'brown bear wearing shirt'}\n",
      "select!\n",
      "{'predicate': 'behind', 'tf_idf_score': 0.12420012355390161, 'original_phrase': 'white curtains behind brown bear'}\n",
      "select!\n",
      "{'predicate': 'on', 'tf_idf_score': -0.184616858053671, 'original_phrase': 'the tag on beige bear'}\n",
      "select!\n",
      "[{'predicate': 'under', 'tf_idf_score': 0.1751989439614817, 'original_phrase': 'white table under beige bear'}, {'predicate': 'has', 'tf_idf_score': 0.24428512292276455, 'original_phrase': 'beige bear has brown nose'}, {'predicate': 'has', 'tf_idf_score': 0.24428512292276455, 'original_phrase': 'beige bear has leg'}, {'predicate': 'has', 'tf_idf_score': 0.24428512292276455, 'original_phrase': 'beige bear has arm'}, {'predicate': 'on', 'tf_idf_score': -0.184616858053671, 'original_phrase': 'grey ear on brown bear'}, {'predicate': 'has', 'tf_idf_score': 0.24428512292276455, 'original_phrase': 'beige bear has patch'}, {'predicate': 'wearing', 'tf_idf_score': 0.15803281083998802, 'original_phrase': 'beige bear wearing gray hat'}]\n"
     ]
    }
   ],
   "source": [
    "import random\n",
    "ann = annotation[2324]#根据index获取annotation\n",
    "match_tf_idf = corresponding_tf_idf[2324]\n",
    "tf_list = []\n",
    "for i,(phrase) in enumerate(ann['phrase_list']):\n",
    "    # print(phrase)\n",
    "    above_predicate = '' if i==0 else match_tf_idf['predicate_tf_idf_score'][i-1]['predicate']\n",
    "    tf_idf_score = match_tf_idf['predicate_tf_idf_score'][i]\n",
    "    additional_similar_values = 0.3 if tf_idf_score['predicate'] == above_predicate else 0.1\n",
    "    tf_idf_score = match_tf_idf['predicate_tf_idf_score'][i]\n",
    "    print(tf_idf_score)\n",
    "    if tf_idf_score['tf_idf_score']< 0.4 and random.uniform(tf_idf_score['tf_idf_score'], 1) - additional_similar_values < 0.55:\n",
    "        print('select!')\n",
    "        continue\n",
    "    tf_list.append(tf_idf_score)\n",
    "print(tf_list)\n"
   ]
  }
 ],
 "metadata": {
  "kernelspec": {
   "display_name": "Python 3.10.5 ('BLIPM')",
   "language": "python",
   "name": "python3"
  },
  "language_info": {
   "codemirror_mode": {
    "name": "ipython",
    "version": 3
   },
   "file_extension": ".py",
   "mimetype": "text/x-python",
   "name": "python",
   "nbconvert_exporter": "python",
   "pygments_lexer": "ipython3",
   "version": "3.10.6"
  },
  "orig_nbformat": 4,
  "vscode": {
   "interpreter": {
    "hash": "6a035a0c99eb1b901207b3cbdd9ffcf1f36f39e152a80c706b34b95d48a17c93"
   }
  }
 },
 "nbformat": 4,
 "nbformat_minor": 2
}
